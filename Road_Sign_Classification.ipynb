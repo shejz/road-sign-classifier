{
  "nbformat": 4,
  "nbformat_minor": 0,
  "metadata": {
    "colab": {
      "name": "Road_Sign_Classification.ipynb",
      "provenance": [],
      "collapsed_sections": [],
      "toc_visible": true
    },
    "kernelspec": {
      "name": "python3",
      "display_name": "Python 3"
    },
    "language_info": {
      "name": "python"
    },
    "accelerator": "GPU"
  },
  "cells": [
    {
      "cell_type": "markdown",
      "metadata": {
        "id": "y9tNWqvikJlX"
      },
      "source": [
        "## **Road Sign Classification with Keras and Deep Learning**\n",
        "Road sign classification is the process of automatically recognizing traffic signs along the road, including speed limit signs, yield signs, merge signs, etc. Being able to automatically recognize traffic signs enables us to build “smarter cars”.\n",
        "\n",
        "Self-driving cars need traffic sign recognition in order to properly parse and understand the roadway. Similarly, “driver alert” systems inside cars need to understand the roadway around them to help aid and protect drivers."
      ]
    },
    {
      "cell_type": "markdown",
      "metadata": {
        "id": "rqsE3bVokkmL"
      },
      "source": [
        "### **GTSRB - German Traffic Sign Recognition Dataset**\n",
        "The [GTSRB](https://www.kaggle.com/meowmeowmeowmeowmeow/gtsrb-german-traffic-sign) dataset consists of **43** traffic sign classes and nearly 50,000 images."
      ]
    },
    {
      "cell_type": "code",
      "metadata": {
        "id": "WTbbrv07xVhy"
      },
      "source": [
        "import numpy as np \n",
        "import pandas as pd \n",
        "import matplotlib.pyplot as plt\n",
        "import cv2\n",
        "import tensorflow as tf\n",
        "from PIL import Image\n",
        "import os\n",
        "from sklearn.model_selection import train_test_split\n",
        "from sklearn.metrics import accuracy_score\n",
        "from keras.utils import to_categorical\n",
        "from keras.models import Sequential, load_model\n",
        "from keras.layers import Conv2D, MaxPool2D, Dense, Flatten, Dropout"
      ],
      "execution_count": 1,
      "outputs": []
    },
    {
      "cell_type": "code",
      "metadata": {
        "id": "ZUPUPS1LgLfT"
      },
      "source": [
        "# Store data, labels in the list\n",
        "data=[]\n",
        "labels=[]\n",
        "\n",
        "# Road Sign: 43 Classes\n",
        "classes = 43"
      ],
      "execution_count": 2,
      "outputs": []
    },
    {
      "cell_type": "markdown",
      "metadata": {
        "id": "2xVkcSoKgk7S"
      },
      "source": [
        "## **Preprocess the images**\n",
        "Preprocess all the training images are store into numpy arrays. I'll also get labels of images from paths. And convert targets to one-hot form as is required by keras. \n",
        "\n",
        "One of the limitations of the CNN model is that they cannot be trained on a different dimension of images. So, it is mandatory to have same dimension images in the dataset."
      ]
    },
    {
      "cell_type": "code",
      "metadata": {
        "colab": {
          "base_uri": "https://localhost:8080/",
          "height": 52
        },
        "id": "S1Wc9Q9gs-fk",
        "outputId": "b1cf4ae9-9b26-4dec-e2fd-52689b057d80"
      },
      "source": [
        "%cd gtsrb-german-traffic-sign\n",
        "cur_path = os.getcwd()\n",
        "cur_path "
      ],
      "execution_count": 3,
      "outputs": [
        {
          "output_type": "stream",
          "text": [
            "/content/gtsrb-german-traffic-sign\n"
          ],
          "name": "stdout"
        },
        {
          "output_type": "execute_result",
          "data": {
            "application/vnd.google.colaboratory.intrinsic+json": {
              "type": "string"
            },
            "text/plain": [
              "'/content/gtsrb-german-traffic-sign'"
            ]
          },
          "metadata": {
            "tags": []
          },
          "execution_count": 3
        }
      ]
    },
    {
      "cell_type": "markdown",
      "metadata": {
        "id": "GORT0MD6lVOq"
      },
      "source": [
        "#### **Retrieving the images and their labels**"
      ]
    },
    {
      "cell_type": "code",
      "metadata": {
        "id": "4V4HCcxVghs4"
      },
      "source": [
        "for i in range(classes):\n",
        "    path = os.path.join(cur_path,'Train',str(i))\n",
        "    images = os.listdir(path)\n",
        "    for a in images:\n",
        "        try:\n",
        "            image = Image.open(path + '//'+ a)\n",
        "            image = image.resize((30,30))\n",
        "            image = np.array(image)\n",
        "            data.append(image)\n",
        "            labels.append(i)\n",
        "        except Exception as e:\n",
        "            print(e)"
      ],
      "execution_count": 4,
      "outputs": []
    },
    {
      "cell_type": "markdown",
      "metadata": {
        "id": "HxRmqVi2lMxS"
      },
      "source": [
        "#### **Converting lists into numpy arrays**"
      ]
    },
    {
      "cell_type": "code",
      "metadata": {
        "id": "TOhe_GD9sMfE"
      },
      "source": [
        "data = np.array(data)\n",
        "labels = np.array(labels)"
      ],
      "execution_count": 5,
      "outputs": []
    },
    {
      "cell_type": "code",
      "metadata": {
        "id": "Z5giZsTSsZJt"
      },
      "source": [
        "# Save labels & data for future use\n",
        "os.mkdir('training')\n",
        "\n",
        "np.save('./training/data',data)\n",
        "np.save('./training/target',labels)"
      ],
      "execution_count": 6,
      "outputs": []
    },
    {
      "cell_type": "code",
      "metadata": {
        "id": "knB_hlFpswo-"
      },
      "source": [
        "# Load data & Labels\n",
        "data = np.load('./training/data.npy')\n",
        "labels = np.load('./training/target.npy')"
      ],
      "execution_count": 7,
      "outputs": []
    },
    {
      "cell_type": "code",
      "metadata": {
        "colab": {
          "base_uri": "https://localhost:8080/"
        },
        "id": "2RqzWightGv0",
        "outputId": "9e1d805b-9ba5-488b-e045-52333750db0c"
      },
      "source": [
        "print(data.shape, labels.shape)"
      ],
      "execution_count": 8,
      "outputs": [
        {
          "output_type": "stream",
          "text": [
            "(39209, 30, 30, 3) (39209,)\n"
          ],
          "name": "stdout"
        }
      ]
    },
    {
      "cell_type": "markdown",
      "metadata": {
        "id": "rC2nqUx-lhi_"
      },
      "source": [
        "#### **Splitting training and testing dataset**"
      ]
    },
    {
      "cell_type": "code",
      "metadata": {
        "id": "RtGcpONatG0D"
      },
      "source": [
        "X_train, X_test, y_train, y_test = train_test_split(data, labels, test_size=0.2, random_state=0)"
      ],
      "execution_count": 9,
      "outputs": []
    },
    {
      "cell_type": "code",
      "metadata": {
        "colab": {
          "base_uri": "https://localhost:8080/"
        },
        "id": "ayiY9W1Av-Oz",
        "outputId": "eb0dbf8b-946d-4ffa-cd13-6cd8ab935a67"
      },
      "source": [
        "print(X_train.shape, X_test.shape, y_train.shape, y_test.shape)"
      ],
      "execution_count": 10,
      "outputs": [
        {
          "output_type": "stream",
          "text": [
            "(31367, 30, 30, 3) (7842, 30, 30, 3) (31367,) (7842,)\n"
          ],
          "name": "stdout"
        }
      ]
    },
    {
      "cell_type": "markdown",
      "metadata": {
        "id": "eKfmQR2eltqW"
      },
      "source": [
        "#### **Converting the labels into one hot encoding**"
      ]
    },
    {
      "cell_type": "code",
      "metadata": {
        "id": "iK8mLzSqwCYs"
      },
      "source": [
        "y_train = to_categorical(y_train, 43)\n",
        "y_test = to_categorical(y_test, 43)"
      ],
      "execution_count": 11,
      "outputs": []
    },
    {
      "cell_type": "markdown",
      "metadata": {
        "id": "7IdfkBPoi_RV"
      },
      "source": [
        "### **Build a CNN model**\n",
        "I'll be using keras package to build CNN model. CNN is best for image classification purposes.\n",
        "\n",
        "**The architecture of our model is:**\n",
        "\n",
        "- 2 Conv2D layer (filter=32, kernel_size=(5,5), activation=”relu”)\n",
        "- MaxPool2D layer ( pool_size=(2,2))\n",
        "- Dropout layer (rate=0.25)\n",
        "- 2 Conv2D layer (filter=64, kernel_size=(3,3), activation=”relu”)\n",
        "- MaxPool2D layer ( pool_size=(2,2))\n",
        "- Dropout layer (rate=0.25)\n",
        "- Flatten layer to squeeze the layers into 1 dimension\n",
        "- Dense Fully connected layer (256 nodes, activation=”relu”)\n",
        "- Dropout layer (rate=0.5)\n",
        "- Dense layer (43 nodes, activation=”softmax”)"
      ]
    },
    {
      "cell_type": "code",
      "metadata": {
        "id": "JPYrsznhwEgT",
        "colab": {
          "base_uri": "https://localhost:8080/"
        },
        "outputId": "f8f103a1-a96d-403b-c3da-e2c094b8a1f4"
      },
      "source": [
        "model = Sequential()\n",
        "model.add(Conv2D(filters=32, kernel_size=(5,5), activation='relu', input_shape=X_train.shape[1:]))\n",
        "model.add(Conv2D(filters=32, kernel_size=(5,5), activation='relu'))\n",
        "model.add(MaxPool2D(pool_size=(2, 2)))\n",
        "model.add(Dropout(rate=0.25))\n",
        "model.add(Conv2D(filters=64, kernel_size=(3, 3), activation='relu'))\n",
        "model.add(Conv2D(filters=64, kernel_size=(3, 3), activation='relu'))\n",
        "model.add(MaxPool2D(pool_size=(2, 2)))\n",
        "model.add(Dropout(rate=0.25))\n",
        "model.add(Flatten())\n",
        "model.add(Dense(256, activation='relu'))\n",
        "model.add(Dropout(rate=0.5))\n",
        "# 43 classes for 43 in the Dense\n",
        "model.add(Dense(43, activation='softmax'))\n",
        "model.summary()"
      ],
      "execution_count": 12,
      "outputs": [
        {
          "output_type": "stream",
          "text": [
            "Model: \"sequential\"\n",
            "_________________________________________________________________\n",
            "Layer (type)                 Output Shape              Param #   \n",
            "=================================================================\n",
            "conv2d (Conv2D)              (None, 26, 26, 32)        2432      \n",
            "_________________________________________________________________\n",
            "conv2d_1 (Conv2D)            (None, 22, 22, 32)        25632     \n",
            "_________________________________________________________________\n",
            "max_pooling2d (MaxPooling2D) (None, 11, 11, 32)        0         \n",
            "_________________________________________________________________\n",
            "dropout (Dropout)            (None, 11, 11, 32)        0         \n",
            "_________________________________________________________________\n",
            "conv2d_2 (Conv2D)            (None, 9, 9, 64)          18496     \n",
            "_________________________________________________________________\n",
            "conv2d_3 (Conv2D)            (None, 7, 7, 64)          36928     \n",
            "_________________________________________________________________\n",
            "max_pooling2d_1 (MaxPooling2 (None, 3, 3, 64)          0         \n",
            "_________________________________________________________________\n",
            "dropout_1 (Dropout)          (None, 3, 3, 64)          0         \n",
            "_________________________________________________________________\n",
            "flatten (Flatten)            (None, 576)               0         \n",
            "_________________________________________________________________\n",
            "dense (Dense)                (None, 256)               147712    \n",
            "_________________________________________________________________\n",
            "dropout_2 (Dropout)          (None, 256)               0         \n",
            "_________________________________________________________________\n",
            "dense_1 (Dense)              (None, 43)                11051     \n",
            "=================================================================\n",
            "Total params: 242,251\n",
            "Trainable params: 242,251\n",
            "Non-trainable params: 0\n",
            "_________________________________________________________________\n"
          ],
          "name": "stdout"
        }
      ]
    },
    {
      "cell_type": "markdown",
      "metadata": {
        "id": "g__PRbdlbUIN"
      },
      "source": [
        "### **Compilation of the model**\n",
        "\n",
        "Before training the model, we need to configure the model the learning algorithm and compile it. Compile the model with **Adam optimizer** which performs well and loss is \"categorical_crossentropy\" because we have multiple classes to categorize.\n",
        "\n",
        "We need to specify:\n",
        "- **loss** : Loss function is used to find error or deviation in the learning process. Keras requires loss function during model compilation process and optimize it. We cannot use error percentage as it is not continuous and thus non differentiable. We therefore use **categorical_crossentropy**\n",
        "- **optimizer** : Optimization is an important process which optimize the input weights by comparing the prediction and the loss function. adam optimizer for training the network.\n",
        "- **metric** : Metrics is used to evaluate the performance of your model. It is similar to loss function, but not used in training process. Since we are dealing with a classification problem, our metric is accuracy."
      ]
    },
    {
      "cell_type": "code",
      "metadata": {
        "id": "LnwZccuowPWb"
      },
      "source": [
        "# Compile the model\n",
        "model.compile(loss='categorical_crossentropy', optimizer='adam', metrics=['accuracy'])"
      ],
      "execution_count": 13,
      "outputs": []
    },
    {
      "cell_type": "markdown",
      "metadata": {
        "id": "cKHhi7rtj--l"
      },
      "source": [
        "### **Train and validate the model**\n",
        "\n",
        "After building the model architecture, we then train the model using **model.fit()**. I tried with batch size 32 and 64. Our model performed better with 64 batch size. And after 15 epochs the accuracy was stable."
      ]
    },
    {
      "cell_type": "code",
      "metadata": {
        "colab": {
          "base_uri": "https://localhost:8080/"
        },
        "id": "6wBVnjcIwTQY",
        "outputId": "2ac6f3f2-0047-4d41-d866-c1baa910b69b"
      },
      "source": [
        "epochs = 20\n",
        "history = model.fit(X_train, y_train, batch_size=32, epochs=epochs, validation_data=(X_test, y_test))"
      ],
      "execution_count": 14,
      "outputs": [
        {
          "output_type": "stream",
          "text": [
            "Epoch 1/20\n",
            "981/981 [==============================] - 37s 5ms/step - loss: 3.4820 - accuracy: 0.2930 - val_loss: 0.6995 - val_accuracy: 0.8129\n",
            "Epoch 2/20\n",
            "981/981 [==============================] - 4s 4ms/step - loss: 0.9859 - accuracy: 0.7166 - val_loss: 0.3736 - val_accuracy: 0.9009\n",
            "Epoch 3/20\n",
            "981/981 [==============================] - 4s 4ms/step - loss: 0.6452 - accuracy: 0.8066 - val_loss: 0.2349 - val_accuracy: 0.9355\n",
            "Epoch 4/20\n",
            "981/981 [==============================] - 4s 4ms/step - loss: 0.4997 - accuracy: 0.8510 - val_loss: 0.1606 - val_accuracy: 0.9521\n",
            "Epoch 5/20\n",
            "981/981 [==============================] - 4s 4ms/step - loss: 0.4069 - accuracy: 0.8775 - val_loss: 0.1390 - val_accuracy: 0.9598\n",
            "Epoch 6/20\n",
            "981/981 [==============================] - 4s 4ms/step - loss: 0.3275 - accuracy: 0.9065 - val_loss: 0.1086 - val_accuracy: 0.9694\n",
            "Epoch 7/20\n",
            "981/981 [==============================] - 4s 4ms/step - loss: 0.2866 - accuracy: 0.9198 - val_loss: 0.0876 - val_accuracy: 0.9733\n",
            "Epoch 8/20\n",
            "981/981 [==============================] - 4s 4ms/step - loss: 0.2560 - accuracy: 0.9284 - val_loss: 0.0774 - val_accuracy: 0.9788\n",
            "Epoch 9/20\n",
            "981/981 [==============================] - 4s 4ms/step - loss: 0.2540 - accuracy: 0.9281 - val_loss: 0.0992 - val_accuracy: 0.9733\n",
            "Epoch 10/20\n",
            "981/981 [==============================] - 4s 4ms/step - loss: 0.2216 - accuracy: 0.9372 - val_loss: 0.0826 - val_accuracy: 0.9767\n",
            "Epoch 11/20\n",
            "981/981 [==============================] - 4s 4ms/step - loss: 0.2039 - accuracy: 0.9450 - val_loss: 0.0714 - val_accuracy: 0.9823\n",
            "Epoch 12/20\n",
            "981/981 [==============================] - 4s 4ms/step - loss: 0.2080 - accuracy: 0.9410 - val_loss: 0.0542 - val_accuracy: 0.9855\n",
            "Epoch 13/20\n",
            "981/981 [==============================] - 4s 4ms/step - loss: 0.1948 - accuracy: 0.9483 - val_loss: 0.0627 - val_accuracy: 0.9825\n",
            "Epoch 14/20\n",
            "981/981 [==============================] - 4s 4ms/step - loss: 0.2221 - accuracy: 0.9409 - val_loss: 0.0818 - val_accuracy: 0.9773\n",
            "Epoch 15/20\n",
            "981/981 [==============================] - 4s 4ms/step - loss: 0.2301 - accuracy: 0.9376 - val_loss: 0.0656 - val_accuracy: 0.9819\n",
            "Epoch 16/20\n",
            "981/981 [==============================] - 4s 4ms/step - loss: 0.1967 - accuracy: 0.9484 - val_loss: 0.0490 - val_accuracy: 0.9872\n",
            "Epoch 17/20\n",
            "981/981 [==============================] - 4s 4ms/step - loss: 0.1919 - accuracy: 0.9493 - val_loss: 0.0561 - val_accuracy: 0.9847\n",
            "Epoch 18/20\n",
            "981/981 [==============================] - 4s 4ms/step - loss: 0.2098 - accuracy: 0.9460 - val_loss: 0.0608 - val_accuracy: 0.9848\n",
            "Epoch 19/20\n",
            "981/981 [==============================] - 4s 4ms/step - loss: 0.1691 - accuracy: 0.9548 - val_loss: 0.0595 - val_accuracy: 0.9837\n",
            "Epoch 20/20\n",
            "981/981 [==============================] - 4s 4ms/step - loss: 0.2046 - accuracy: 0.9474 - val_loss: 0.0506 - val_accuracy: 0.9843\n"
          ],
          "name": "stdout"
        }
      ]
    },
    {
      "cell_type": "markdown",
      "metadata": {
        "id": "kwAamOlckRPE"
      },
      "source": [
        "### **Plotting graphs for accuracy**\n",
        "\n",
        "Our model got a 95% accuracy on the training dataset. With matplotlib, we plot the graph for accuracy and the loss."
      ]
    },
    {
      "cell_type": "code",
      "metadata": {
        "colab": {
          "base_uri": "https://localhost:8080/",
          "height": 295
        },
        "id": "At_R5kyR628n",
        "outputId": "3a95f777-5e64-4074-8982-15afc79243c1"
      },
      "source": [
        "# Accuracy \n",
        "plt.figure(0)\n",
        "plt.plot(history.history['accuracy'], label='training accuracy')\n",
        "plt.plot(history.history['val_accuracy'], label='val accuracy')\n",
        "plt.title('Accuracy')\n",
        "plt.xlabel('epochs')\n",
        "plt.ylabel('accuracy')\n",
        "plt.legend()\n",
        "plt.show()"
      ],
      "execution_count": 15,
      "outputs": [
        {
          "output_type": "display_data",
          "data": {
            "image/png": "[encoded data removed]",
            "text/plain": [
              "<Figure size 432x288 with 1 Axes>"
            ]
          },
          "metadata": {
            "tags": [],
            "needs_background": "light"
          }
        }
      ]
    },
    {
      "cell_type": "code",
      "metadata": {
        "colab": {
          "base_uri": "https://localhost:8080/",
          "height": 295
        },
        "id": "y0TsNEyz656U",
        "outputId": "d833d98e-46ab-4deb-d451-33359884f86f"
      },
      "source": [
        "# Loss\n",
        "plt.plot(history.history['loss'], label='training loss')\n",
        "plt.plot(history.history['val_loss'], label='val loss')\n",
        "plt.title('Loss')\n",
        "plt.xlabel('epochs')\n",
        "plt.ylabel('loss')\n",
        "plt.legend()\n",
        "plt.show()"
      ],
      "execution_count": 16,
      "outputs": [
        {
          "output_type": "display_data",
          "data": {
            "image/png": "[encoded data removed]",
            "text/plain": [
              "<Figure size 432x288 with 1 Axes>"
            ]
          },
          "metadata": {
            "tags": [],
            "needs_background": "light"
          }
        }
      ]
    },
    {
      "cell_type": "markdown",
      "metadata": {
        "id": "CGGgZybAkeRB"
      },
      "source": [
        "### **Test the model with test dataset**"
      ]
    },
    {
      "cell_type": "code",
      "metadata": {
        "id": "HMC1_4zN7FYY"
      },
      "source": [
        "   # Let's do testing on Test data\n",
        "   def testing(test_dataset):\n",
        "    y_test = pd.read_csv(test_dataset)\n",
        "    label = y_test[\"ClassId\"].values\n",
        "    imgs = y_test[\"Path\"].values\n",
        "    data=[]\n",
        "    for img in imgs:\n",
        "        image = Image.open(img)\n",
        "        image = image.resize((30,30))\n",
        "        data.append(np.array(image))\n",
        "    X_test=np.array(data)\n",
        "    return X_test,label"
      ],
      "execution_count": 17,
      "outputs": []
    },
    {
      "cell_type": "code",
      "metadata": {
        "id": "fJofLAOA7pHm"
      },
      "source": [
        "X_test, label = testing('Test.csv')"
      ],
      "execution_count": 18,
      "outputs": []
    },
    {
      "cell_type": "code",
      "metadata": {
        "colab": {
          "base_uri": "https://localhost:8080/"
        },
        "id": "Ss4lp3xt7xGV",
        "outputId": "5e018549-0bc2-4474-e123-5c0bf4d9bae4"
      },
      "source": [
        "Y_pred = np.argmax(model.predict(X_test), axis=-1)\n",
        "Y_pred"
      ],
      "execution_count": 19,
      "outputs": [
        {
          "output_type": "execute_result",
          "data": {
            "text/plain": [
              "array([16,  1, 38, ...,  2,  7, 10])"
            ]
          },
          "metadata": {
            "tags": []
          },
          "execution_count": 19
        }
      ]
    },
    {
      "cell_type": "markdown",
      "metadata": {
        "id": "K0kdE-nV71ID"
      },
      "source": [
        "### **Accuracy with the test data**"
      ]
    },
    {
      "cell_type": "code",
      "metadata": {
        "colab": {
          "base_uri": "https://localhost:8080/"
        },
        "id": "y6xB1scx71Vs",
        "outputId": "126c6949-6556-49d4-dd48-12485ca3a88d"
      },
      "source": [
        "print(accuracy_score(label, Y_pred))"
      ],
      "execution_count": 20,
      "outputs": [
        {
          "output_type": "stream",
          "text": [
            "0.950910530482977\n"
          ],
          "name": "stdout"
        }
      ]
    },
    {
      "cell_type": "markdown",
      "metadata": {
        "id": "PrBHZQiO8guO"
      },
      "source": [
        "### **Save the model**\n",
        "Save the model that we have trained using the Keras model.save() function."
      ]
    },
    {
      "cell_type": "code",
      "metadata": {
        "id": "sYH1rMFr8hGC"
      },
      "source": [
        "model.save(\"./training/traffic_classifier.h5\")"
      ],
      "execution_count": 21,
      "outputs": []
    },
    {
      "cell_type": "markdown",
      "metadata": {
        "id": "FuN4Pz_j8s-e"
      },
      "source": [
        "### **Load the model**"
      ]
    },
    {
      "cell_type": "code",
      "metadata": {
        "id": "b8xmKg2_8tSY"
      },
      "source": [
        "model = load_model('./training/traffic_classifier.h5')"
      ],
      "execution_count": 22,
      "outputs": []
    },
    {
      "cell_type": "code",
      "metadata": {
        "id": "7Yoo19Tz85oA"
      },
      "source": [
        "# Classes of trafic signs\n",
        "classes = { 0:'Speed limit (20km/h)',\n",
        "            1:'Speed limit (30km/h)', \n",
        "            2:'Speed limit (50km/h)', \n",
        "            3:'Speed limit (60km/h)', \n",
        "            4:'Speed limit (70km/h)', \n",
        "            5:'Speed limit (80km/h)', \n",
        "            6:'End of speed limit (80km/h)', \n",
        "            7:'Speed limit (100km/h)', \n",
        "            8:'Speed limit (120km/h)', \n",
        "            9:'No passing', \n",
        "            10:'No passing veh over 3.5 tons', \n",
        "            11:'Right-of-way at intersection', \n",
        "            12:'Priority road', \n",
        "            13:'Yield', \n",
        "            14:'Stop', \n",
        "            15:'No vehicles', \n",
        "            16:'Veh > 3.5 tons prohibited', \n",
        "            17:'No entry', \n",
        "            18:'General caution', \n",
        "            19:'Dangerous curve left', \n",
        "            20:'Dangerous curve right', \n",
        "            21:'Double curve', \n",
        "            22:'Bumpy road', \n",
        "            23:'Slippery road', \n",
        "            24:'Road narrows on the right', \n",
        "            25:'Road work', \n",
        "            26:'Traffic signals', \n",
        "            27:'Pedestrians', \n",
        "            28:'Children crossing', \n",
        "            29:'Bicycles crossing', \n",
        "            30:'Beware of ice/snow',\n",
        "            31:'Wild animals crossing', \n",
        "            32:'End speed + passing limits', \n",
        "            33:'Turn right ahead', \n",
        "            34:'Turn left ahead', \n",
        "            35:'Ahead only', \n",
        "            36:'Go straight or right', \n",
        "            37:'Go straight or left', \n",
        "            38:'Keep right', \n",
        "            39:'Keep left', \n",
        "            40:'Roundabout mandatory', \n",
        "            41:'End of no passing', \n",
        "            42:'End no passing veh > 3.5 tons' }"
      ],
      "execution_count": 23,
      "outputs": []
    },
    {
      "cell_type": "code",
      "metadata": {
        "id": "22tW-55v88Fh"
      },
      "source": [
        "def test_on_img(img):\n",
        "    data=[]\n",
        "    image = Image.open(img)\n",
        "    image = image.resize((30,30))\n",
        "    data.append(np.array(image))\n",
        "    X_test=np.array(data)\n",
        "    Y_pred = np.argmax(model.predict(X_test), axis=-1)\n",
        "    return image,Y_pred"
      ],
      "execution_count": 24,
      "outputs": []
    },
    {
      "cell_type": "code",
      "metadata": {
        "colab": {
          "base_uri": "https://localhost:8080/",
          "height": 283
        },
        "id": "Bn6l6qwW9F8_",
        "outputId": "6e17d21c-0e7f-4b94-a010-710afefb30f7"
      },
      "source": [
        "plot,prediction = test_on_img(r'/content/gtsrb-german-traffic-sign/Test/00020.png')\n",
        "s = [str(i) for i in prediction] \n",
        "a = int(\"\".join(s)) \n",
        "print(\"Classify Road Sign: \", classes[a])\n",
        "plt.imshow(plot)\n",
        "plt.show()"
      ],
      "execution_count": 25,
      "outputs": [
        {
          "output_type": "stream",
          "text": [
            "Classify Road Sign:  Speed limit (70km/h)\n"
          ],
          "name": "stdout"
        },
        {
          "output_type": "display_data",
          "data": {
            "image/png": "[encoded data removed]",
            "text/plain": [
              "<Figure size 432x288 with 1 Axes>"
            ]
          },
          "metadata": {
            "tags": [],
            "needs_background": "light"
          }
        }
      ]
    }
  ]
}